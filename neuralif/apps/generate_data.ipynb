{
 "cells": [
  {
   "cell_type": "code",
   "execution_count": 1,
   "id": "ccda6ebd",
   "metadata": {},
   "outputs": [
    {
     "name": "stderr",
     "output_type": "stream",
     "text": [
      "C:\\Users\\soha9\\anaconda3\\envs\\torch\\lib\\site-packages\\tqdm\\auto.py:22: TqdmWarning: IProgress not found. Please update jupyter and ipywidgets. See https://ipywidgets.readthedocs.io/en/stable/user_install.html\n",
      "  from .autonotebook import tqdm as notebook_tqdm\n"
     ]
    }
   ],
   "source": [
    "from advection import *"
   ]
  },
  {
   "cell_type": "code",
   "execution_count": 2,
   "id": "23eef396",
   "metadata": {},
   "outputs": [
    {
     "name": "stdout",
     "output_type": "stream",
     "text": [
      "##############################################################\n",
      "n:  144\n",
      "A shape:  torch.Size([144, 144])\n",
      "b shape:  torch.Size([144, 1])\n",
      "u shape:  torch.Size([144, 1])\n",
      "Residual error |Ax-b|: 2.1627664936740842e-15\n",
      "Path where file is generated: C:/Users/soha9/Documents/python/neuralif/neuralif_advection/data/train/cfl=1.387/pt/144_0.pt\n",
      ".pt file with following data is successfully generated!\n",
      "Data(x=[144, 1, 1], edge_index=[2, 2560], edge_attr=[2560, 1], s=[144, 1], n=144)\n",
      "##############################################################\n",
      "n:  576\n",
      "A shape:  torch.Size([576, 576])\n",
      "b shape:  torch.Size([576, 1])\n",
      "u shape:  torch.Size([576, 1])\n",
      "Residual error |Ax-b|: 3.4104595775068247e-15\n",
      "Path where file is generated: C:/Users/soha9/Documents/python/neuralif/neuralif_advection/data/train/cfl=1.387/pt/576_0.pt\n",
      ".pt file with following data is successfully generated!\n",
      "Data(x=[576, 1, 1], edge_index=[2, 10176], edge_attr=[10176, 1], s=[576, 1], n=576)\n",
      "##############################################################\n",
      "n:  2304\n",
      "A shape:  torch.Size([2304, 2304])\n",
      "b shape:  torch.Size([2304, 1])\n",
      "u shape:  torch.Size([2304, 1])\n",
      "Residual error |Ax-b|: 8.115789009393139e-15\n",
      "Path where file is generated: C:/Users/soha9/Documents/python/neuralif/neuralif_advection/data/train/cfl=1.387/pt/2304_0.pt\n",
      ".pt file with following data is successfully generated!\n",
      "Data(x=[2304, 1, 1], edge_index=[2, 41088], edge_attr=[41088, 1], s=[2304, 1], n=2304)\n",
      "##############################################################\n",
      "n:  9216\n"
     ]
    },
    {
     "name": "stderr",
     "output_type": "stream",
     "text": [
      "C:\\Users\\soha9\\Documents\\python\\neuralif\\neuralif_advection\\neuralif\\apps\\load_data.py:68: UserWarning: To copy construct from a tensor, it is recommended to use sourceTensor.clone().detach() or sourceTensor.clone().detach().requires_grad_(True), rather than torch.tensor(sourceTensor).\n",
      "  A = torch.tensor(A, dtype=torch.float64)\n",
      "C:\\Users\\soha9\\Documents\\python\\neuralif\\neuralif_advection\\neuralif\\apps\\load_data.py:69: UserWarning: To copy construct from a tensor, it is recommended to use sourceTensor.clone().detach() or sourceTensor.clone().detach().requires_grad_(True), rather than torch.tensor(sourceTensor).\n",
      "  u = torch.tensor(u, dtype=torch.float64)\n",
      "C:\\Users\\soha9\\Documents\\python\\neuralif\\neuralif_advection\\neuralif\\apps\\load_data.py:70: UserWarning: To copy construct from a tensor, it is recommended to use sourceTensor.clone().detach() or sourceTensor.clone().detach().requires_grad_(True), rather than torch.tensor(sourceTensor).\n",
      "  b = torch.tensor(b, dtype = torch.float64)\n",
      "C:\\Users\\soha9\\Documents\\python\\neuralif\\neuralif_advection\\neuralif\\apps\\generate_pt_files.py:14: UserWarning: Creating a tensor from a list of numpy.ndarrays is extremely slow. Please consider converting the list to a single numpy.ndarray with numpy.array() before converting to a tensor. (Triggered internally at C:\\cb\\pytorch_1000000000000\\work\\torch\\csrc\\utils\\tensor_new.cpp:233.)\n",
      "  node_features = torch.tensor(list(map(lambda x: [x], b)), dtype=torch.float)\n",
      "C:\\Users\\soha9\\Documents\\python\\neuralif\\neuralif_advection\\neuralif\\apps\\generate_pt_files.py:27: UserWarning: To copy construct from a tensor, it is recommended to use sourceTensor.clone().detach() or sourceTensor.clone().detach().requires_grad_(True), rather than torch.tensor(sourceTensor).\n",
      "  graph.s = torch.tensor(u_tensor, dtype=torch.float)\n"
     ]
    },
    {
     "name": "stdout",
     "output_type": "stream",
     "text": [
      "A shape:  torch.Size([9216, 9216])\n",
      "b shape:  torch.Size([9216, 1])\n",
      "u shape:  torch.Size([9216, 1])\n",
      "Residual error |Ax-b|: 1.7036037038703658e-14\n",
      "Path where file is generated: C:/Users/soha9/Documents/python/neuralif/neuralif_advection/data/train/cfl=1.387/pt/9216_0.pt\n",
      ".pt file with following data is successfully generated!\n",
      "Data(x=[9216, 1, 1], edge_index=[2, 165120], edge_attr=[165120, 1], s=[9216, 1], n=9216)\n",
      "##############################################################\n",
      "n:  36864\n",
      "A shape:  torch.Size([36864, 36864])\n",
      "b shape:  torch.Size([36864, 1])\n",
      "u shape:  torch.Size([36864, 1])\n",
      "Residual error |Ax-b|: 3.3435791205821145e-14\n",
      "Path where file is generated: C:/Users/soha9/Documents/python/neuralif/neuralif_advection/data/train/cfl=1.387/pt/36864_0.pt\n",
      ".pt file with following data is successfully generated!\n",
      "Data(x=[36864, 1, 1], edge_index=[2, 662016], edge_attr=[662016, 1], s=[36864, 1], n=36864)\n",
      "##############################################################\n",
      "n:  147456\n",
      "A shape:  torch.Size([147456, 147456])\n",
      "b shape:  torch.Size([147456, 1])\n",
      "u shape:  torch.Size([147456, 1])\n",
      "Residual error |Ax-b|: 6.598121397831846e-14\n",
      "Path where file is generated: C:/Users/soha9/Documents/python/neuralif/neuralif_advection/data/train/cfl=1.387/pt/147456_0.pt\n",
      ".pt file with following data is successfully generated!\n",
      "Data(x=[147456, 1, 1], edge_index=[2, 2651136], edge_attr=[2651136, 1], s=[147456, 1], n=147456)\n"
     ]
    }
   ],
   "source": [
    "N = [144, 576, 2304, 9216, 36864, 147456]\n",
    "\n",
    "for n in N:\n",
    "    generate_data(n=n, cfl=1.387, mode='train')"
   ]
  },
  {
   "cell_type": "code",
   "execution_count": null,
   "id": "61d4e7e8",
   "metadata": {},
   "outputs": [],
   "source": []
  }
 ],
 "metadata": {
  "kernelspec": {
   "display_name": "Python 3 (ipykernel)",
   "language": "python",
   "name": "python3"
  },
  "language_info": {
   "codemirror_mode": {
    "name": "ipython",
    "version": 3
   },
   "file_extension": ".py",
   "mimetype": "text/x-python",
   "name": "python",
   "nbconvert_exporter": "python",
   "pygments_lexer": "ipython3",
   "version": "3.8.16"
  }
 },
 "nbformat": 4,
 "nbformat_minor": 5
}
